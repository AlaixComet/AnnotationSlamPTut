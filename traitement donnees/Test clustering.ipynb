{
 "cells": [
  {
   "cell_type": "code",
   "execution_count": 1,
   "metadata": {
    "collapsed": true
   },
   "outputs": [],
   "source": [
    "from parsing2 import parsing\n",
    "from os import path\n",
    "import numpy as np\n",
    "import pandas\n",
    "from data import Unit, Texte, Campagne, Annotateur, Relation, Annotation, Theme\n",
    "import scipy\n",
    "from scipy.cluster.hierarchy import dendrogram, linkage\n",
    "\n",
    "from matplotlib import pyplot as plt"
   ]
  },
  {
   "cell_type": "code",
   "execution_count": 2,
   "metadata": {},
   "outputs": [
    {
     "name": "stdout",
     "output_type": "stream",
     "text": [
      "F:\\Documents\\GitHub\\AnnotationSlamPTut\\Campagne 2018\\Bac_a_sable\\Annotations\\A01.aa\n",
      "F:\\Documents\\GitHub\\AnnotationSlamPTut\\Campagne 2018\\Bac_a_sable\\Annotations\\A02.aa\n",
      "F:\\Documents\\GitHub\\AnnotationSlamPTut\\Campagne 2018\\Bac_a_sable\\Annotations\\A03.aa\n",
      "F:\\Documents\\GitHub\\AnnotationSlamPTut\\Campagne 2018\\Bac_a_sable\\Annotations\\A04.aa\n",
      "F:\\Documents\\GitHub\\AnnotationSlamPTut\\Campagne 2018\\Bac_a_sable\\Annotations\\A05.aa\n",
      "F:\\Documents\\GitHub\\AnnotationSlamPTut\\Campagne 2018\\Bac_a_sable\\Annotations\\A06.aa\n",
      "F:\\Documents\\GitHub\\AnnotationSlamPTut\\Campagne 2018\\Bac_a_sable\\Annotations\\A07.aa\n",
      "F:\\Documents\\GitHub\\AnnotationSlamPTut\\Campagne 2018\\Bac_a_sable\\Annotations\\A08.aa\n",
      "F:\\Documents\\GitHub\\AnnotationSlamPTut\\Campagne 2018\\Bac_a_sable\\Annotations\\A09.aa\n",
      "F:\\Documents\\GitHub\\AnnotationSlamPTut\\Campagne 2018\\Bac_a_sable\\Annotations\\A10.aa\n",
      "F:\\Documents\\GitHub\\AnnotationSlamPTut\\Campagne 2018\\Bac_a_sable\\Annotations\\A11.aa\n",
      "F:\\Documents\\GitHub\\AnnotationSlamPTut\\Campagne 2018\\Bac_a_sable\\Annotations\\A12.aa\n",
      "F:\\Documents\\GitHub\\AnnotationSlamPTut\\Campagne 2018\\Bac_a_sable\\Annotations\\A13.aa\n",
      "F:\\Documents\\GitHub\\AnnotationSlamPTut\\Campagne 2018\\Bac_a_sable\\Annotations\\C01.aa\n",
      "F:\\Documents\\GitHub\\AnnotationSlamPTut\\Campagne 2018\\Bac_a_sable\\Annotations\\C02.aa\n",
      "F:\\Documents\\GitHub\\AnnotationSlamPTut\\Campagne 2018\\Bac_a_sable\\Annotations\\C03.aa\n",
      "F:\\Documents\\GitHub\\AnnotationSlamPTut\\Campagne 2018\\Bac_a_sable\\Annotations\\C04.aa\n",
      "F:\\Documents\\GitHub\\AnnotationSlamPTut\\Campagne 2018\\Bac_a_sable\\Annotations\\C05.aa\n",
      "F:\\Documents\\GitHub\\AnnotationSlamPTut\\Campagne 2018\\Bac_a_sable\\Annotations\\C06.aa\n",
      "F:\\Documents\\GitHub\\AnnotationSlamPTut\\Campagne 2018\\Bac_a_sable\\Annotations\\C07.aa\n",
      "F:\\Documents\\GitHub\\AnnotationSlamPTut\\Campagne 2018\\Bac_a_sable\\Annotations\\C08.aa\n",
      "F:\\Documents\\GitHub\\AnnotationSlamPTut\\Campagne 2018\\Bac_a_sable\\Annotations\\C09.aa\n",
      "F:\\Documents\\GitHub\\AnnotationSlamPTut\\Campagne 2018\\Bac_a_sable\\Annotations\\C10.aa\n",
      "F:\\Documents\\GitHub\\AnnotationSlamPTut\\Campagne 2018\\Florence\\Annotations\\A07.aa\n",
      "F:\\Documents\\GitHub\\AnnotationSlamPTut\\Campagne 2018\\Florence\\Annotations\\A09.aa\n",
      "F:\\Documents\\GitHub\\AnnotationSlamPTut\\Campagne 2018\\Florence\\Annotations\\A11.aa\n",
      "F:\\Documents\\GitHub\\AnnotationSlamPTut\\Campagne 2018\\Florence\\Annotations\\C03.aa\n",
      "F:\\Documents\\GitHub\\AnnotationSlamPTut\\Campagne 2018\\Florence\\Annotations\\C04.aa\n",
      "F:\\Documents\\GitHub\\AnnotationSlamPTut\\Campagne 2018\\Florence\\Annotations\\C05.aa\n",
      "F:\\Documents\\GitHub\\AnnotationSlamPTut\\Campagne 2018\\Florence\\Annotations\\C07.aa\n",
      "F:\\Documents\\GitHub\\AnnotationSlamPTut\\Campagne 2018\\Florence\\Annotations\\C10.aa\n",
      "F:\\Documents\\GitHub\\AnnotationSlamPTut\\Campagne 2018\\Provocation\\Annotations\\A01.aa\n",
      "F:\\Documents\\GitHub\\AnnotationSlamPTut\\Campagne 2018\\Provocation\\Annotations\\A03.aa\n",
      "F:\\Documents\\GitHub\\AnnotationSlamPTut\\Campagne 2018\\Provocation\\Annotations\\A04.aa\n",
      "F:\\Documents\\GitHub\\AnnotationSlamPTut\\Campagne 2018\\Provocation\\Annotations\\A05.aa\n",
      "F:\\Documents\\GitHub\\AnnotationSlamPTut\\Campagne 2018\\Provocation\\Annotations\\A07.aa\n",
      "F:\\Documents\\GitHub\\AnnotationSlamPTut\\Campagne 2018\\Provocation\\Annotations\\A08.aa\n",
      "F:\\Documents\\GitHub\\AnnotationSlamPTut\\Campagne 2018\\Provocation\\Annotations\\A10.aa\n",
      "F:\\Documents\\GitHub\\AnnotationSlamPTut\\Campagne 2018\\Provocation\\Annotations\\A11.aa\n",
      "F:\\Documents\\GitHub\\AnnotationSlamPTut\\Campagne 2018\\Provocation\\Annotations\\A12.aa\n",
      "F:\\Documents\\GitHub\\AnnotationSlamPTut\\Campagne 2018\\Provocation\\Annotations\\C02.aa\n",
      "F:\\Documents\\GitHub\\AnnotationSlamPTut\\Campagne 2018\\Provocation\\Annotations\\C03.aa\n",
      "F:\\Documents\\GitHub\\AnnotationSlamPTut\\Campagne 2018\\Provocation\\Annotations\\C05.aa\n",
      "F:\\Documents\\GitHub\\AnnotationSlamPTut\\Campagne 2018\\Provocation\\Annotations\\C06.aa\n",
      "F:\\Documents\\GitHub\\AnnotationSlamPTut\\Campagne 2018\\Provocation\\Annotations\\C08.aa\n",
      "F:\\Documents\\GitHub\\AnnotationSlamPTut\\Campagne 2018\\Provocation\\Annotations\\C09.aa\n",
      "F:\\Documents\\GitHub\\AnnotationSlamPTut\\Campagne 2018\\Provocation\\Annotations\\C10.aa\n"
     ]
    }
   ],
   "source": [
    "AnnotationDirectory = \"Campagne 2018\"\n",
    "projectDirectory = \"F:\\\\Documents\\\\GitHub\\\\AnnotationSlamPTut\"\n",
    "textsNames = [\"Bac_a_sable\",\"Florence\",\"Provocation\"]\n",
    "textDirectories = [path.join(projectDirectory,AnnotationDirectory,t) for t in textsNames]\n",
    "\n",
    "camp = parsing(textDirectories)\n",
    "\n",
    "typesRel = {\"Narration\":\"horizontale\", \"Réponse\":\"horizontale\", \"Elaboration descriptive\":\"verticale\", \"Elaboration evaluative\":\"verticale\", \"Elaboration prescriptive\":\"verticale\", \"Conduite\":\"verticale\",\"Phatique\":\"verticale\",\"Contre-élaboration\":\"verticale\",\"Méta-question\":\"verticale\",\"Question\":\"verticale\"}\n",
    "camp.typesRelations = typesRel"
   ]
  },
  {
   "cell_type": "code",
   "execution_count": 3,
   "metadata": {
    "collapsed": true
   },
   "outputs": [],
   "source": [
    "annots_bas = camp.getAnnotations(\"Bac_a_sable\")"
   ]
  },
  {
   "cell_type": "code",
   "execution_count": 14,
   "metadata": {},
   "outputs": [
    {
     "data": {
      "image/svg+xml": [
       "<?xml version=\"1.0\" encoding=\"UTF-8\" standalone=\"no\"?>\r\n",
       "<!DOCTYPE svg PUBLIC \"-//W3C//DTD SVG 1.1//EN\"\r\n",
       " \"http://www.w3.org/Graphics/SVG/1.1/DTD/svg11.dtd\">\r\n",
       "<!-- Generated by graphviz version 2.38.0 (20140413.2041)\r\n",
       " -->\r\n",
       "<!-- Title: %3 Pages: 1 -->\r\n",
       "<svg width=\"945pt\" height=\"218pt\"\r\n",
       " viewBox=\"0.00 0.00 945.00 218.00\" xmlns=\"http://www.w3.org/2000/svg\" xmlns:xlink=\"http://www.w3.org/1999/xlink\">\r\n",
       "<g id=\"graph0\" class=\"graph\" transform=\"scale(1 1) rotate(0) translate(4 214)\">\r\n",
       "<title>%3</title>\r\n",
       "<polygon fill=\"white\" stroke=\"none\" points=\"-4,4 -4,-214 941,-214 941,4 -4,4\"/>\r\n",
       "<!-- Début -->\r\n",
       "<g id=\"node1\" class=\"node\"><title>Début</title>\r\n",
       "<polygon fill=\"lightgrey\" stroke=\"black\" points=\"95,-210 0,-210 0,-174 95,-174 95,-210\"/>\r\n",
       "<text text-anchor=\"middle\" x=\"47.5\" y=\"-188.3\" font-family=\"Times New Roman,serif\" font-size=\"14.00\">Début : Début</text>\r\n",
       "</g>\r\n",
       "<!-- A1 -->\r\n",
       "<g id=\"node2\" class=\"node\"><title>A1</title>\r\n",
       "<polygon fill=\"wheat\" stroke=\"black\" points=\"322,-210 165,-210 165,-174 322,-174 322,-210\"/>\r\n",
       "<text text-anchor=\"middle\" x=\"243.5\" y=\"-188.3\" font-family=\"Times New Roman,serif\" font-size=\"14.00\">A1 : J’étais au restaurant.</text>\r\n",
       "</g>\r\n",
       "<!-- Début&#45;&gt;A1 -->\r\n",
       "<g id=\"edge1\" class=\"edge\"><title>Début&#45;&gt;A1</title>\r\n",
       "<path fill=\"none\" stroke=\"black\" d=\"M95.1964,-192C116.159,-192 141.336,-192 164.943,-192\"/>\r\n",
       "<text text-anchor=\"middle\" x=\"130\" y=\"-198.8\" font-family=\"Times New Roman,serif\" font-size=\"14.00\">Narration</text>\r\n",
       "</g>\r\n",
       "<!-- B1 -->\r\n",
       "<g id=\"node3\" class=\"node\"><title>B1</title>\r\n",
       "<polygon fill=\"skyblue\" stroke=\"black\" points=\"216.5,-123 130.5,-123 130.5,-87 216.5,-87 216.5,-123\"/>\r\n",
       "<text text-anchor=\"middle\" x=\"173.5\" y=\"-101.3\" font-family=\"Times New Roman,serif\" font-size=\"14.00\">B1 : Ah oui?</text>\r\n",
       "</g>\r\n",
       "<!-- A1&#45;&gt;B1 -->\r\n",
       "<g id=\"edge2\" class=\"edge\"><title>A1&#45;&gt;B1</title>\r\n",
       "<path fill=\"none\" stroke=\"black\" d=\"M229.334,-173.799C217.19,-159.052 199.783,-137.915 187.644,-123.175\"/>\r\n",
       "<text text-anchor=\"middle\" x=\"239.5\" y=\"-144.8\" font-family=\"Times New Roman,serif\" font-size=\"14.00\">Conduite</text>\r\n",
       "</g>\r\n",
       "<!-- A2 -->\r\n",
       "<g id=\"node4\" class=\"node\"><title>A2</title>\r\n",
       "<polygon fill=\"wheat\" stroke=\"black\" points=\"520.5,-123 234.5,-123 234.5,-87 520.5,-87 520.5,-123\"/>\r\n",
       "<text text-anchor=\"middle\" x=\"377.5\" y=\"-101.3\" font-family=\"Times New Roman,serif\" font-size=\"14.00\">A2 : Oui j’ai même mangé des pâtes au saumon!</text>\r\n",
       "</g>\r\n",
       "<!-- A1&#45;&gt;A2 -->\r\n",
       "<g id=\"edge3\" class=\"edge\"><title>A1&#45;&gt;A2</title>\r\n",
       "<path fill=\"none\" stroke=\"black\" d=\"M270.617,-173.799C293.865,-159.052 327.187,-137.915 350.423,-123.175\"/>\r\n",
       "<text text-anchor=\"middle\" x=\"384\" y=\"-144.8\" font-family=\"Times New Roman,serif\" font-size=\"14.00\">Elaboration descriptive</text>\r\n",
       "</g>\r\n",
       "<!-- B2_1 -->\r\n",
       "<g id=\"node5\" class=\"node\"><title>B2_1</title>\r\n",
       "<polygon fill=\"skyblue\" stroke=\"black\" points=\"292.5,-36 214.5,-36 214.5,-0 292.5,-0 292.5,-36\"/>\r\n",
       "<text text-anchor=\"middle\" x=\"253.5\" y=\"-14.3\" font-family=\"Times New Roman,serif\" font-size=\"14.00\">B2_1 : Oh,</text>\r\n",
       "</g>\r\n",
       "<!-- A2&#45;&gt;B2_1 -->\r\n",
       "<g id=\"edge4\" class=\"edge\"><title>A2&#45;&gt;B2_1</title>\r\n",
       "<path fill=\"none\" stroke=\"black\" d=\"M351.248,-86.8863C342.684,-81.2443 333.154,-74.9027 324.5,-69 308.682,-58.2111 291.085,-45.8214 277.367,-36.0744\"/>\r\n",
       "<text text-anchor=\"middle\" x=\"349\" y=\"-57.8\" font-family=\"Times New Roman,serif\" font-size=\"14.00\">Phatique</text>\r\n",
       "</g>\r\n",
       "<!-- B2_2 -->\r\n",
       "<g id=\"node6\" class=\"node\"><title>B2_2</title>\r\n",
       "<polygon fill=\"skyblue\" stroke=\"black\" points=\"444,-36 311,-36 311,-0 444,-0 444,-36\"/>\r\n",
       "<text text-anchor=\"middle\" x=\"377.5\" y=\"-14.3\" font-family=\"Times New Roman,serif\" font-size=\"14.00\">B2_2 : et c’était où ?</text>\r\n",
       "</g>\r\n",
       "<!-- A2&#45;&gt;B2_2 -->\r\n",
       "<g id=\"edge5\" class=\"edge\"><title>A2&#45;&gt;B2_2</title>\r\n",
       "<path fill=\"none\" stroke=\"black\" d=\"M377.5,-86.799C377.5,-72.0519 377.5,-50.9152 377.5,-36.1754\"/>\r\n",
       "<text text-anchor=\"middle\" x=\"403\" y=\"-57.8\" font-family=\"Times New Roman,serif\" font-size=\"14.00\">Question</text>\r\n",
       "</g>\r\n",
       "<!-- A3_2 -->\r\n",
       "<g id=\"node8\" class=\"node\"><title>A3_2</title>\r\n",
       "<polygon fill=\"wheat\" stroke=\"black\" points=\"937,-36 730,-36 730,-0 937,-0 937,-36\"/>\r\n",
       "<text text-anchor=\"middle\" x=\"833.5\" y=\"-14.3\" font-family=\"Times New Roman,serif\" font-size=\"14.00\">A3_2 : c’était vraiment super bon.</text>\r\n",
       "</g>\r\n",
       "<!-- A2&#45;&gt;A3_2 -->\r\n",
       "<g id=\"edge7\" class=\"edge\"><title>A2&#45;&gt;A3_2</title>\r\n",
       "<path fill=\"none\" stroke=\"black\" d=\"M468.956,-86.9523C548.384,-72.1467 662.813,-50.8167 742.196,-36.0194\"/>\r\n",
       "<text text-anchor=\"middle\" x=\"693.5\" y=\"-57.8\" font-family=\"Times New Roman,serif\" font-size=\"14.00\">Elaboration evaluative</text>\r\n",
       "</g>\r\n",
       "<!-- A3_1 -->\r\n",
       "<g id=\"node7\" class=\"node\"><title>A3_1</title>\r\n",
       "<polygon fill=\"wheat\" stroke=\"black\" points=\"711.5,-36 511.5,-36 511.5,-0 711.5,-0 711.5,-36\"/>\r\n",
       "<text text-anchor=\"middle\" x=\"611.5\" y=\"-14.3\" font-family=\"Times New Roman,serif\" font-size=\"14.00\">A3_1 : C’était à la Villa Romana,</text>\r\n",
       "</g>\r\n",
       "<!-- B2_2&#45;&gt;A3_1 -->\r\n",
       "<g id=\"edge6\" class=\"edge\"><title>B2_2&#45;&gt;A3_1</title>\r\n",
       "<path fill=\"none\" stroke=\"black\" d=\"M444.242,-18C465.18,-18 488.77,-18 511.487,-18\"/>\r\n",
       "<text text-anchor=\"middle\" x=\"477.75\" y=\"-24.8\" font-family=\"Times New Roman,serif\" font-size=\"14.00\">Réponse</text>\r\n",
       "</g>\r\n",
       "</g>\r\n",
       "</svg>\r\n"
      ],
      "text/plain": [
       "<graphviz.dot.Digraph at 0x2026c23fbe0>"
      ]
     },
     "execution_count": 14,
     "metadata": {},
     "output_type": "execute_result"
    }
   ],
   "source": [
    "annots_bas[1].dessinerArbre()"
   ]
  },
  {
   "cell_type": "code",
   "execution_count": 7,
   "metadata": {},
   "outputs": [
    {
     "name": "stderr",
     "output_type": "stream",
     "text": [
      "C:\\Users\\Corentin\\Anaconda3\\lib\\site-packages\\ipykernel_launcher.py:1: DeprecationWarning: \n",
      "Panel is deprecated and will be removed in a future version.\n",
      "The recommended way to represent these types of 3-dimensional data are with a MultiIndex on a DataFrame, via the Panel.to_frame() method\n",
      "Alternatively, you can use the xarray package http://xarray.pydata.org/en/stable/.\n",
      "Pandas provides a `.to_xarray()` method to help automate this conversion.\n",
      "\n",
      "  \"\"\"Entry point for launching an IPython kernel.\n"
     ]
    }
   ],
   "source": [
    "raplaplapla = [a.matrice().sum(0).as_matrix().reshape(-1) for a in annots_bas]"
   ]
  },
  {
   "cell_type": "code",
   "execution_count": 8,
   "metadata": {},
   "outputs": [
    {
     "data": {
      "text/plain": [
       "[array([ 0.,  1.,  0.,  0.,  0.,  0.,  0.,  0.,  0.,  0.,  1.,  0.,  0.,\n",
       "         0.,  0.,  0.,  0.,  0.,  0.,  1.,  0.,  0.,  0.,  0.,  0.,  0.,\n",
       "         0.,  0.,  1.,  0.,  0.,  0.,  0.,  0.,  0.,  0.,  0.,  1.,  0.,\n",
       "         0.,  0.,  0.,  0.,  0.,  0.,  0.,  1.,  0.,  0.,  0.,  0.,  0.,\n",
       "         0.,  0.,  0.,  1.,  0.,  0.,  0.,  0.,  0.,  0.,  0.,  0.]),\n",
       " array([ 0.,  1.,  0.,  0.,  0.,  0.,  0.,  0.,  0.,  0.,  1.,  1.,  0.,\n",
       "         0.,  0.,  0.,  0.,  0.,  0.,  0.,  0.,  0.,  0.,  0.,  0.,  0.,\n",
       "         0.,  0.,  1.,  1.,  0.,  1.,  0.,  0.,  0.,  0.,  0.,  0.,  0.,\n",
       "         0.,  0.,  0.,  0.,  0.,  0.,  0.,  1.,  0.,  0.,  0.,  0.,  0.,\n",
       "         0.,  0.,  0.,  0.,  0.,  0.,  0.,  0.,  0.,  0.,  0.,  0.]),\n",
       " array([ 0.,  1.,  0.,  0.,  0.,  0.,  0.,  0.,  0.,  0.,  1.,  1.,  0.,\n",
       "         0.,  0.,  0.,  0.,  0.,  0.,  0.,  0.,  0.,  0.,  0.,  0.,  0.,\n",
       "         0.,  0.,  1.,  1.,  0.,  1.,  0.,  0.,  0.,  0.,  0.,  0.,  0.,\n",
       "         0.,  0.,  0.,  0.,  0.,  0.,  0.,  1.,  0.,  0.,  0.,  0.,  0.,\n",
       "         0.,  0.,  0.,  0.,  0.,  0.,  0.,  0.,  0.,  0.,  0.,  0.]),\n",
       " array([ 0.,  1.,  0.,  0.,  0.,  0.,  0.,  0.,  0.,  0.,  1.,  1.,  0.,\n",
       "         1.,  0.,  0.,  0.,  0.,  0.,  0.,  0.,  0.,  0.,  0.,  0.,  0.,\n",
       "         0.,  0.,  1.,  0.,  0.,  1.,  0.,  0.,  0.,  0.,  0.,  0.,  0.,\n",
       "         0.,  0.,  0.,  0.,  0.,  0.,  0.,  1.,  0.,  0.,  0.,  0.,  0.,\n",
       "         0.,  0.,  0.,  0.,  0.,  0.,  0.,  0.,  0.,  0.,  0.,  0.]),\n",
       " array([ 0.,  1.,  0.,  0.,  0.,  0.,  0.,  0.,  0.,  0.,  1.,  0.,  0.,\n",
       "         1.,  0.,  0.,  0.,  0.,  0.,  1.,  0.,  0.,  0.,  0.,  0.,  0.,\n",
       "         0.,  0.,  1.,  0.,  0.,  1.,  0.,  0.,  0.,  0.,  0.,  0.,  0.,\n",
       "         0.,  0.,  0.,  0.,  0.,  0.,  0.,  1.,  0.,  0.,  0.,  0.,  0.,\n",
       "         0.,  0.,  0.,  0.,  0.,  0.,  0.,  0.,  0.,  0.,  0.,  0.]),\n",
       " array([ 0.,  1.,  0.,  0.,  0.,  0.,  0.,  0.,  0.,  0.,  1.,  1.,  0.,\n",
       "         0.,  0.,  0.,  0.,  0.,  0.,  0.,  0.,  0.,  0.,  0.,  0.,  0.,\n",
       "         0.,  0.,  1.,  1.,  0.,  1.,  0.,  0.,  0.,  0.,  0.,  0.,  0.,\n",
       "         0.,  0.,  0.,  0.,  0.,  0.,  0.,  1.,  0.,  0.,  0.,  0.,  0.,\n",
       "         0.,  0.,  0.,  0.,  0.,  0.,  0.,  0.,  0.,  0.,  0.,  0.]),\n",
       " array([ 0.,  1.,  0.,  0.,  0.,  0.,  0.,  0.,  0.,  0.,  1.,  1.,  0.,\n",
       "         0.,  0.,  0.,  0.,  0.,  0.,  0.,  0.,  0.,  0.,  0.,  0.,  0.,\n",
       "         0.,  0.,  1.,  1.,  0.,  0.,  0.,  0.,  0.,  0.,  0.,  0.,  0.,\n",
       "         0.,  0.,  0.,  0.,  0.,  0.,  0.,  1.,  0.,  0.,  0.,  0.,  0.,\n",
       "         0.,  0.,  0.,  1.,  0.,  0.,  0.,  0.,  0.,  0.,  0.,  0.]),\n",
       " array([ 0.,  1.,  0.,  0.,  0.,  0.,  0.,  0.,  0.,  0.,  1.,  0.,  0.,\n",
       "         1.,  0.,  0.,  0.,  0.,  0.,  1.,  0.,  0.,  0.,  0.,  0.,  0.,\n",
       "         0.,  0.,  1.,  0.,  0.,  0.,  0.,  0.,  0.,  0.,  0.,  0.,  0.,\n",
       "         0.,  0.,  0.,  0.,  0.,  0.,  0.,  1.,  0.,  0.,  0.,  0.,  0.,\n",
       "         0.,  0.,  0.,  1.,  0.,  0.,  0.,  0.,  0.,  0.,  0.,  0.]),\n",
       " array([ 0.,  1.,  0.,  0.,  0.,  0.,  0.,  0.,  0.,  0.,  1.,  0.,  0.,\n",
       "         0.,  0.,  0.,  0.,  0.,  0.,  1.,  0.,  0.,  0.,  0.,  0.,  0.,\n",
       "         0.,  0.,  1.,  1.,  1.,  1.,  0.,  0.,  0.,  0.,  0.,  0.,  0.,\n",
       "         0.,  0.,  0.,  0.,  0.,  0.,  0.,  0.,  0.,  0.,  0.,  0.,  0.,\n",
       "         0.,  0.,  0.,  0.,  0.,  0.,  0.,  0.,  0.,  0.,  0.,  0.]),\n",
       " array([ 0.,  1.,  0.,  0.,  0.,  0.,  0.,  0.,  0.,  0.,  1.,  1.,  0.,\n",
       "         0.,  0.,  0.,  0.,  0.,  0.,  0.,  0.,  0.,  0.,  0.,  0.,  0.,\n",
       "         0.,  0.,  1.,  1.,  0.,  1.,  0.,  0.,  0.,  0.,  0.,  0.,  0.,\n",
       "         0.,  0.,  0.,  0.,  0.,  0.,  0.,  1.,  0.,  0.,  0.,  0.,  0.,\n",
       "         0.,  0.,  0.,  0.,  0.,  0.,  0.,  0.,  0.,  0.,  0.,  0.]),\n",
       " array([ 0.,  1.,  0.,  0.,  0.,  0.,  0.,  0.,  0.,  0.,  1.,  1.,  0.,\n",
       "         0.,  0.,  0.,  0.,  0.,  0.,  0.,  0.,  0.,  0.,  0.,  0.,  0.,\n",
       "         0.,  0.,  1.,  1.,  0.,  1.,  0.,  0.,  0.,  0.,  0.,  0.,  0.,\n",
       "         0.,  0.,  0.,  0.,  0.,  0.,  0.,  1.,  0.,  0.,  0.,  0.,  0.,\n",
       "         0.,  0.,  0.,  0.,  0.,  0.,  0.,  0.,  0.,  0.,  0.,  0.]),\n",
       " array([ 0.,  1.,  0.,  0.,  0.,  0.,  0.,  0.,  0.,  0.,  1.,  1.,  0.,\n",
       "         0.,  0.,  0.,  0.,  0.,  0.,  0.,  0.,  0.,  0.,  0.,  0.,  0.,\n",
       "         0.,  0.,  1.,  1.,  0.,  1.,  0.,  0.,  0.,  0.,  0.,  0.,  0.,\n",
       "         0.,  0.,  0.,  0.,  0.,  0.,  0.,  1.,  0.,  0.,  0.,  0.,  0.,\n",
       "         0.,  0.,  0.,  0.,  0.,  0.,  0.,  0.,  0.,  0.,  0.,  0.]),\n",
       " array([ 0.,  1.,  0.,  0.,  0.,  0.,  0.,  0.,  0.,  0.,  1.,  1.,  0.,\n",
       "         0.,  0.,  0.,  0.,  0.,  0.,  0.,  0.,  0.,  0.,  0.,  0.,  0.,\n",
       "         0.,  0.,  1.,  1.,  0.,  1.,  0.,  0.,  0.,  0.,  0.,  0.,  0.,\n",
       "         0.,  0.,  0.,  0.,  0.,  0.,  0.,  1.,  0.,  0.,  0.,  0.,  0.,\n",
       "         0.,  0.,  0.,  0.,  0.,  0.,  0.,  0.,  0.,  0.,  0.,  0.]),\n",
       " array([ 0.,  0.,  0.,  0.,  0.,  0.,  0.,  0.,  0.,  0.,  1.,  1.,  0.,\n",
       "         0.,  0.,  0.,  0.,  0.,  0.,  0.,  0.,  0.,  0.,  0.,  0.,  0.,\n",
       "         0.,  0.,  1.,  1.,  0.,  0.,  0.,  0.,  0.,  0.,  0.,  0.,  0.,\n",
       "         0.,  0.,  0.,  0.,  0.,  0.,  0.,  1.,  0.,  0.,  0.,  0.,  0.,\n",
       "         0.,  0.,  0.,  1.,  0.,  0.,  0.,  0.,  0.,  0.,  0.,  0.]),\n",
       " array([ 0.,  0.,  0.,  0.,  0.,  0.,  0.,  0.,  0.,  0.,  0.,  0.,  0.,\n",
       "         0.,  0.,  0.,  0.,  0.,  0.,  0.,  0.,  0.,  0.,  0.,  0.,  0.,\n",
       "         0.,  0.,  0.,  0.,  0.,  0.,  0.,  0.,  0.,  0.,  0.,  0.,  0.,\n",
       "         0.,  0.,  0.,  0.,  0.,  0.,  0.,  0.,  0.,  0.,  0.,  0.,  0.,\n",
       "         0.,  0.,  0.,  0.,  0.,  0.,  0.,  0.,  0.,  0.,  0.,  0.]),\n",
       " array([ 0.,  1.,  1.,  0.,  0.,  0.,  0.,  0.,  0.,  0.,  0.,  0.,  0.,\n",
       "         1.,  0.,  0.,  0.,  0.,  0.,  1.,  0.,  0.,  0.,  0.,  0.,  0.,\n",
       "         0.,  0.,  1.,  0.,  0.,  1.,  0.,  0.,  0.,  0.,  0.,  0.,  0.,\n",
       "         0.,  0.,  0.,  0.,  0.,  0.,  0.,  1.,  0.,  0.,  0.,  0.,  0.,\n",
       "         0.,  0.,  0.,  0.,  0.,  0.,  0.,  0.,  0.,  0.,  0.,  0.]),\n",
       " array([ 0.,  1.,  0.,  0.,  0.,  0.,  0.,  0.,  0.,  0.,  1.,  1.,  0.,\n",
       "         1.,  0.,  0.,  0.,  0.,  0.,  0.,  0.,  0.,  0.,  0.,  0.,  0.,\n",
       "         0.,  0.,  1.,  0.,  0.,  1.,  0.,  0.,  0.,  0.,  0.,  0.,  0.,\n",
       "         0.,  0.,  0.,  0.,  0.,  0.,  0.,  1.,  0.,  0.,  0.,  0.,  0.,\n",
       "         0.,  0.,  0.,  0.,  0.,  0.,  0.,  0.,  0.,  0.,  0.,  0.]),\n",
       " array([ 0.,  1.,  0.,  0.,  0.,  0.,  0.,  0.,  0.,  0.,  1.,  1.,  0.,\n",
       "         0.,  0.,  0.,  0.,  0.,  0.,  0.,  0.,  0.,  0.,  0.,  0.,  0.,\n",
       "         0.,  0.,  1.,  1.,  0.,  1.,  0.,  0.,  0.,  0.,  0.,  0.,  0.,\n",
       "         0.,  0.,  0.,  0.,  0.,  0.,  0.,  1.,  0.,  0.,  0.,  0.,  0.,\n",
       "         0.,  0.,  0.,  0.,  0.,  0.,  0.,  0.,  0.,  0.,  0.,  0.]),\n",
       " array([ 0.,  1.,  0.,  0.,  0.,  0.,  0.,  0.,  0.,  0.,  1.,  1.,  0.,\n",
       "         1.,  0.,  0.,  0.,  0.,  0.,  0.,  0.,  0.,  0.,  0.,  0.,  0.,\n",
       "         0.,  0.,  1.,  0.,  0.,  0.,  0.,  0.,  0.,  0.,  0.,  0.,  0.,\n",
       "         0.,  0.,  0.,  0.,  0.,  0.,  0.,  1.,  0.,  0.,  0.,  0.,  0.,\n",
       "         0.,  0.,  0.,  1.,  0.,  0.,  0.,  0.,  0.,  0.,  0.,  0.]),\n",
       " array([ 0.,  1.,  0.,  0.,  0.,  0.,  0.,  0.,  0.,  0.,  1.,  1.,  0.,\n",
       "         1.,  0.,  0.,  0.,  0.,  0.,  0.,  0.,  0.,  0.,  0.,  0.,  0.,\n",
       "         0.,  0.,  1.,  0.,  0.,  1.,  0.,  0.,  0.,  0.,  0.,  0.,  0.,\n",
       "         0.,  0.,  0.,  0.,  0.,  0.,  0.,  1.,  0.,  0.,  0.,  0.,  0.,\n",
       "         0.,  0.,  0.,  0.,  0.,  0.,  0.,  0.,  0.,  0.,  0.,  0.]),\n",
       " array([ 0.,  1.,  0.,  0.,  0.,  0.,  0.,  0.,  0.,  0.,  1.,  0.,  0.,\n",
       "         1.,  0.,  0.,  0.,  0.,  0.,  1.,  0.,  0.,  0.,  0.,  0.,  0.,\n",
       "         0.,  0.,  1.,  0.,  0.,  0.,  0.,  0.,  0.,  0.,  0.,  1.,  0.,\n",
       "         0.,  0.,  0.,  0.,  0.,  0.,  0.,  1.,  0.,  0.,  0.,  0.,  0.,\n",
       "         0.,  0.,  0.,  1.,  0.,  0.,  0.,  0.,  0.,  0.,  0.,  0.]),\n",
       " array([ 0.,  1.,  0.,  0.,  0.,  0.,  0.,  0.,  0.,  0.,  1.,  1.,  0.,\n",
       "         0.,  0.,  0.,  0.,  0.,  0.,  0.,  0.,  0.,  0.,  0.,  0.,  0.,\n",
       "         0.,  0.,  1.,  0.,  0.,  0.,  0.,  0.,  0.,  0.,  0.,  1.,  0.,\n",
       "         0.,  0.,  0.,  0.,  0.,  0.,  0.,  1.,  0.,  0.,  0.,  0.,  0.,\n",
       "         0.,  0.,  0.,  1.,  0.,  0.,  0.,  0.,  0.,  0.,  0.,  0.]),\n",
       " array([ 0.,  1.,  0.,  0.,  0.,  0.,  0.,  0.,  0.,  0.,  1.,  1.,  0.,\n",
       "         1.,  0.,  0.,  0.,  0.,  0.,  0.,  0.,  0.,  0.,  0.,  0.,  0.,\n",
       "         0.,  0.,  1.,  0.,  0.,  1.,  0.,  0.,  0.,  0.,  0.,  0.,  0.,\n",
       "         0.,  0.,  0.,  0.,  0.,  0.,  0.,  1.,  0.,  0.,  0.,  0.,  0.,\n",
       "         0.,  0.,  0.,  0.,  0.,  0.,  0.,  0.,  0.,  0.,  0.,  0.])]"
      ]
     },
     "execution_count": 8,
     "metadata": {},
     "output_type": "execute_result"
    }
   ],
   "source": [
    "raplaplapla"
   ]
  },
  {
   "cell_type": "code",
   "execution_count": 37,
   "metadata": {
    "collapsed": true
   },
   "outputs": [],
   "source": [
    "def fancy_dendrogram(*args, **kwargs):\n",
    "    max_d = kwargs.pop('max_d', None)\n",
    "    if max_d and 'color_threshold' not in kwargs:\n",
    "        kwargs['color_threshold'] = max_d\n",
    "    annotate_above = kwargs.pop('annotate_above', 0)\n",
    "\n",
    "    ddata = dendrogram(*args, **kwargs)\n",
    "\n",
    "    if not kwargs.get('no_plot', False):\n",
    "        plt.title('Hierarchical Clustering Dendrogram (truncated)')\n",
    "        plt.xlabel('sample index or (cluster size)')\n",
    "        plt.ylabel('distance')\n",
    "        for i, d, c in zip(ddata['icoord'], ddata['dcoord'], ddata['color_list']):\n",
    "            x = 0.5 * sum(i[1:3])\n",
    "            y = d[1]\n",
    "            if y > annotate_above:\n",
    "                plt.plot(x, y, 'o', c=c)\n",
    "                plt.annotate(\"%.3g\" % y, (x, y), xytext=(0, -5),\n",
    "                             textcoords='offset points',\n",
    "                             va='top', ha='center')\n",
    "        if max_d:\n",
    "            plt.axhline(y=max_d, c='k')\n",
    "    return ddata"
   ]
  },
  {
   "cell_type": "code",
   "execution_count": 31,
   "metadata": {
    "collapsed": true
   },
   "outputs": [],
   "source": [
    "Z = linkage(raplaplapla, method=\"average\", metric=scipy.spatial.distance.hamming)"
   ]
  },
  {
   "cell_type": "code",
   "execution_count": 38,
   "metadata": {},
   "outputs": [
    {
     "data": {
      "image/png": "[encoded data removed]",
      "text/plain": [
       "<matplotlib.figure.Figure at 0x18f10a64da0>"
      ]
     },
     "metadata": {},
     "output_type": "display_data"
    }
   ],
   "source": [
    "# calculate full dendrogram\n",
    "plt.figure(figsize=(25, 10))\n",
    "plt.title('Hierarchical Clustering Dendrogram')\n",
    "plt.xlabel('sample index')\n",
    "plt.ylabel('distance')\n",
    "fancy_dendrogram(\n",
    "    Z,\n",
    "    leaf_rotation=90.,  # rotates the x axis labels\n",
    "    leaf_font_size=8.,  # font size for the x axis labels\n",
    ")\n",
    "plt.show()"
   ]
  },
  {
   "cell_type": "code",
   "execution_count": 33,
   "metadata": {},
   "outputs": [
    {
     "data": {
      "text/plain": [
       "0.89204913047969303"
      ]
     },
     "execution_count": 33,
     "metadata": {},
     "output_type": "execute_result"
    }
   ],
   "source": [
    "from scipy.cluster.hierarchy import cophenet\n",
    "from scipy.spatial.distance import pdist\n",
    "\n",
    "c, coph_dists = cophenet(Z, pdist(raplaplapla, metric=scipy.spatial.distance.hamming))\n",
    "c"
   ]
  },
  {
   "cell_type": "code",
   "execution_count": 36,
   "metadata": {},
   "outputs": [
    {
     "data": {
      "text/plain": [
       "array([[  1.00000000e+00,   2.00000000e+00,   0.00000000e+00,\n",
       "          2.00000000e+00],\n",
       "       [  5.00000000e+00,   2.30000000e+01,   0.00000000e+00,\n",
       "          3.00000000e+00],\n",
       "       [  3.00000000e+00,   1.60000000e+01,   0.00000000e+00,\n",
       "          2.00000000e+00],\n",
       "       [  9.00000000e+00,   2.40000000e+01,   0.00000000e+00,\n",
       "          4.00000000e+00],\n",
       "       [  1.00000000e+01,   2.60000000e+01,   0.00000000e+00,\n",
       "          5.00000000e+00],\n",
       "       [  1.10000000e+01,   2.70000000e+01,   0.00000000e+00,\n",
       "          6.00000000e+00],\n",
       "       [  1.20000000e+01,   2.80000000e+01,   0.00000000e+00,\n",
       "          7.00000000e+00],\n",
       "       [  1.70000000e+01,   2.90000000e+01,   0.00000000e+00,\n",
       "          8.00000000e+00],\n",
       "       [  1.90000000e+01,   2.50000000e+01,   0.00000000e+00,\n",
       "          3.00000000e+00],\n",
       "       [  2.20000000e+01,   3.10000000e+01,   0.00000000e+00,\n",
       "          4.00000000e+00],\n",
       "       [  0.00000000e+00,   2.00000000e+01,   1.56250000e-02,\n",
       "          2.00000000e+00],\n",
       "       [  6.00000000e+00,   1.30000000e+01,   1.56250000e-02,\n",
       "          2.00000000e+00],\n",
       "       [  7.00000000e+00,   3.30000000e+01,   2.34375000e-02,\n",
       "          3.00000000e+00],\n",
       "       [  4.00000000e+00,   1.50000000e+01,   3.12500000e-02,\n",
       "          2.00000000e+00],\n",
       "       [  3.00000000e+01,   3.20000000e+01,   3.12500000e-02,\n",
       "          1.20000000e+01],\n",
       "       [  1.80000000e+01,   2.10000000e+01,   3.12500000e-02,\n",
       "          2.00000000e+00],\n",
       "       [  3.40000000e+01,   3.80000000e+01,   3.90625000e-02,\n",
       "          4.00000000e+00],\n",
       "       [  3.70000000e+01,   3.90000000e+01,   5.33854167e-02,\n",
       "          1.60000000e+01],\n",
       "       [  3.50000000e+01,   3.60000000e+01,   6.25000000e-02,\n",
       "          5.00000000e+00],\n",
       "       [  4.00000000e+01,   4.10000000e+01,   8.14453125e-02,\n",
       "          2.10000000e+01],\n",
       "       [  8.00000000e+00,   4.20000000e+01,   8.48214286e-02,\n",
       "          2.20000000e+01],\n",
       "       [  1.40000000e+01,   4.30000000e+01,   1.09375000e-01,\n",
       "          2.30000000e+01]])"
      ]
     },
     "execution_count": 36,
     "metadata": {},
     "output_type": "execute_result"
    }
   ],
   "source": [
    "Z"
   ]
  },
  {
   "cell_type": "code",
   "execution_count": 40,
   "metadata": {
    "collapsed": true
   },
   "outputs": [],
   "source": [
    "from scipy.cluster.hierarchy import fcluster\n",
    "clusters = fcluster(Z, 4, criterion='maxclust')"
   ]
  },
  {
   "cell_type": "code",
   "execution_count": 41,
   "metadata": {},
   "outputs": [
    {
     "data": {
      "text/plain": [
       "array([2, 1, 1, 1, 2, 1, 1, 2, 3, 1, 1, 1, 1, 1, 4, 2, 1, 1, 1, 1, 2, 1, 1], dtype=int32)"
      ]
     },
     "execution_count": 41,
     "metadata": {},
     "output_type": "execute_result"
    }
   ],
   "source": [
    "clusters"
   ]
  },
  {
   "cell_type": "code",
   "execution_count": null,
   "metadata": {
    "collapsed": true
   },
   "outputs": [],
   "source": []
  }
 ],
 "metadata": {
  "kernelspec": {
   "display_name": "Python 3",
   "language": "python",
   "name": "python3"
  },
  "language_info": {
   "codemirror_mode": {
    "name": "ipython",
    "version": 3
   },
   "file_extension": ".py",
   "mimetype": "text/x-python",
   "name": "python",
   "nbconvert_exporter": "python",
   "pygments_lexer": "ipython3",
   "version": "3.6.3"
  }
 },
 "nbformat": 4,
 "nbformat_minor": 2
}
