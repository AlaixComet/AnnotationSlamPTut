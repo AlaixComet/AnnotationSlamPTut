{
 "cells": [
  {
   "cell_type": "markdown",
   "metadata": {},
   "source": [
    "Analyse campagne 2018\n",
    "==========="
   ]
  },
  {
   "cell_type": "markdown",
   "metadata": {},
   "source": [
    "Dans ce notebook on présente les résultats de notre projet tutoré blablabla\n",
    "\n",
    "# Sommaire\n",
    "* **[I. Analyse par textes](#I.-Analyse-par-texte)**\n",
    "    * [I.1. Présentation graphique](#I.1.-Présentation-graphique)\n",
    "    * [I.2.-Calcul-de-l'entropie](#I.2.-Calcul-de-l'entropie)\n",
    "* **[II. Analyse par annotateur](#II.-Analyse-par-annotateur)**"
   ]
  },
  {
   "cell_type": "code",
   "execution_count": 1,
   "metadata": {},
   "outputs": [
    {
     "data": {
      "text/html": [
       "<style>.container { width:95% !important; }</style>"
      ],
      "text/plain": [
       "<IPython.core.display.HTML object>"
      ]
     },
     "metadata": {},
     "output_type": "display_data"
    },
    {
     "data": {
      "text/html": [
       "<script>IPython.OutputArea.prototype._should_scroll=function(){return false;}</script>"
      ],
      "text/plain": [
       "<IPython.core.display.HTML object>"
      ]
     },
     "metadata": {},
     "output_type": "display_data"
    },
    {
     "data": {
      "text/html": [
       "<script>\n",
       "code_show=true; \n",
       "function code_toggle() {\n",
       " if (code_show){\n",
       " $('div.input').hide();\n",
       " } else {\n",
       " $('div.input').show();\n",
       " }\n",
       " code_show = !code_show\n",
       "} \n",
       "$( document ).ready(code_toggle);\n",
       "</script>\n",
       "<form action=\"javascript:code_toggle()\"><input type=\"submit\" value=\"Afficher/Cacher le code\"></form>"
      ],
      "text/plain": [
       "<IPython.core.display.HTML object>"
      ]
     },
     "metadata": {},
     "output_type": "display_data"
    }
   ],
   "source": [
    "# Customization du notebook pour que ce soit plus lisible et agréable à utiliser\n",
    "%matplotlib inline\n",
    "from IPython.core.display import display, HTML\n",
    "\n",
    "# Augmentation de la largeur de la fenêtre\n",
    "display(HTML(\"<style>.container { width:95% !important; }</style>\"))\n",
    "\n",
    "# On fait en sorte qu'il n'y ai pas d'ascenseur vertical pour les images générées\n",
    "display(HTML(\"<script>IPython.OutputArea.prototype._should_scroll=function(){return false;}</script>\"))\n",
    "\n",
    "#On cache le code\n",
    "display(HTML('''<script>\n",
    "code_show=true; \n",
    "function code_toggle() {\n",
    " if (code_show){\n",
    " $('div.input').hide();\n",
    " } else {\n",
    " $('div.input').show();\n",
    " }\n",
    " code_show = !code_show\n",
    "} \n",
    "$( document ).ready(code_toggle);\n",
    "</script>\n",
    "<form action=\"javascript:code_toggle()\"><input type=\"submit\" value=\"Afficher/Cacher le code\"></form>'''))\n",
    "\n",
    "import warnings\n",
    "warnings.filterwarnings('ignore')"
   ]
  },
  {
   "cell_type": "code",
   "execution_count": 2,
   "metadata": {},
   "outputs": [],
   "source": [
    "from ipywidgets import interact, fixed, FloatSlider, interactive, Button\n",
    "\n",
    "from os import path\n",
    "\n",
    "import pandas\n",
    "\n",
    "from scipy import stats\n",
    "\n",
    "import matplotlib.pyplot as plt\n",
    "\n",
    "import operator\n",
    "\n",
    "from data import Unit, Texte, Campagne, Annotateur, Relation, Annotation, Theme\n",
    "from parsing2 import parsing\n",
    "from analyse import *"
   ]
  },
  {
   "cell_type": "code",
   "execution_count": 3,
   "metadata": {},
   "outputs": [
    {
     "name": "stdout",
     "output_type": "stream",
     "text": [
      "Lecture des fichiers de la campagne...\n",
      "155 annotations ont été chargées.\n",
      "\n",
      "Les annotations suivantes étaient non conformes et ne seront pas prises en compte :\n",
      "[('A06', 'Concours'), ('C02', 'Bac_a_sable'), ('C07', 'Florence'), ('C10', 'Provocation'), ('C10', 'Concours'), ('E01', 'Bac_a_sable'), ('E04', 'Sauveur'), ('E06', 'Florence'), ('E10', 'Volley'), ('E11', 'Nord')]\n"
     ]
    }
   ],
   "source": [
    "## Récupérations des données\n",
    "\n",
    "AnnotationDirectory = \"Campagne 2018\"\n",
    "projectDirectory = \"../\"\n",
    "textsNames = [\"Bac_a_sable\", \"Florence\",\"Provocation\", \"Nord\", \"Concours\", \"Sauveur\", \"Volley\"]\n",
    "textDirectories = [path.join(projectDirectory,AnnotationDirectory,t) for t in textsNames]\n",
    "\n",
    "print(\"Lecture des fichiers de la campagne...\")\n",
    "\n",
    "camp = parsing(textDirectories)\n",
    "\n",
    "typesRel = {\"Narration\":\"horizontale\", \"Réponse\":\"horizontale\", \"Elaboration descriptive\":\"verticale\", \"Elaboration evaluative\":\"verticale\", \"Elaboration prescriptive\":\"verticale\", \"Conduite\":\"verticale\",\"Phatique\":\"verticale\",\"Contre-élaboration\":\"verticale\",\"Méta-question\":\"verticale\",\"Question\":\"verticale\"}\n",
    "camp.typesRelations = typesRel\n",
    "\n",
    "nAnnots = 0\n",
    "for t in textsNames:\n",
    "    nAnnots += len(camp.getAnnotations(t))\n",
    "print(nAnnots, \"annotations ont été chargées.\")\n",
    "\n",
    "mauvaisesAnnots = supprimerMauvaisesAnnotations(camp)\n",
    "if len(mauvaisesAnnots) > 0:\n",
    "    print(\"\\nLes annotations suivantes étaient non conformes et ne seront pas prises en compte :\")\n",
    "    print(mauvaisesAnnots)"
   ]
  },
  {
   "cell_type": "markdown",
   "metadata": {},
   "source": [
    "# I. Analyse par textes\n",
    "\n",
    "## I.1. Présentation graphique"
   ]
  },
  {
   "cell_type": "code",
   "execution_count": 4,
   "metadata": {},
   "outputs": [],
   "source": [
    "# En utilisant juste la fonction interact on ne peut pas récupérer l'objet retourné par la fonction alors on va utiliser interactive. \n",
    "# Mais pour ça il faut écrire directement dans la fonction qu'on lui passe ce qu'on veut qu'il affiche (il n'affiche pas automatiquement le return) donc on va encapsuler la fonction de dessin ici\n",
    "def drawing_tree_wrapper(nomTexte, regroupement, seuilAffichage=0.1, montrerThemes=True):\n",
    "    dot = draw_global_tree(camp, nomTexte, regroupement, seuilAffichage, montrerThemes)\n",
    "    display(dot)\n",
    "    return(dot)\n",
    "\n",
    "global_tree = interactive(drawing_tree_wrapper, nomTexte=textsNames, regroupement=[\"aucun\", \"catégorie\", \"emplacement\"], seuilAffichage=FloatSlider(min=0.,max=1., step=0.05, value=0.1, continuous_update=False))\n",
    "\n",
    "bEnregistrerGraphe = Button(\n",
    "    description='Enregistrer',\n",
    "    disabled=False,\n",
    "    button_style='', # 'success', 'info', 'warning', 'danger' or ''\n",
    "    tooltip='Enregistrer ce graphe',\n",
    "    icon='download'\n",
    ")\n",
    "\n",
    "def enregistrer(b):\n",
    "    nom_fichier = global_tree.kwargs['nomTexte'] + \"_-_\" + global_tree.kwargs['regroupement'] + \"_-_\" + str(global_tree.kwargs['seuilAffichage'])\n",
    "    dot = global_tree.result\n",
    "    #dot.format = 'svg'\n",
    "    dot.render(filename=nom_fichier, directory=\"images_enregistrees\", view=True)\n",
    "    \n",
    "bEnregistrerGraphe.on_click(enregistrer)"
   ]
  },
  {
   "cell_type": "code",
   "execution_count": 5,
   "metadata": {},
   "outputs": [
    {
     "data": {
      "application/vnd.jupyter.widget-view+json": {
       "model_id": "df1308ad75e74edc81e2320e84624f07",
       "version_major": 2,
       "version_minor": 0
      },
      "text/plain": [
       "interactive(children=(Dropdown(description='nomTexte', options=('Bac_a_sable', 'Florence', 'Provocation', 'Nor…"
      ]
     },
     "metadata": {},
     "output_type": "display_data"
    },
    {
     "data": {
      "application/vnd.jupyter.widget-view+json": {
       "model_id": "470659cac2524f51a4e64b6ecfb6af8c",
       "version_major": 2,
       "version_minor": 0
      },
      "text/plain": [
       "Button(description='Enregistrer', icon='download', style=ButtonStyle(), tooltip='Enregistrer ce graphe')"
      ]
     },
     "metadata": {},
     "output_type": "display_data"
    }
   ],
   "source": [
    "display(global_tree)\n",
    "display(bEnregistrerGraphe)"
   ]
  },
  {
   "cell_type": "markdown",
   "metadata": {},
   "source": [
    "On observe que je sais pas quoi mais il faudrait noter des choses..."
   ]
  },
  {
   "cell_type": "markdown",
   "metadata": {},
   "source": [
    "## I.2. Calcul de l'entropie\n",
    "\n",
    "On calcule l'entropie de Shannon pour chaque unité afin d'avoir une idée de la convergence des annotations sur cette unité. On calcule ensuite la moyenne sur les textes."
   ]
  },
  {
   "cell_type": "code",
   "execution_count": 6,
   "metadata": {},
   "outputs": [
    {
     "name": "stdout",
     "output_type": "stream",
     "text": [
      "Moyenne de l'entropie de chaque texte, pour les 3 critères d'étiquetage : seulement l'emplacement de destination, seulement le type de relation qui part de l'unité, et les deux.\n"
     ]
    },
    {
     "data": {
      "text/html": [
       "<div>\n",
       "<style scoped>\n",
       "    .dataframe tbody tr th:only-of-type {\n",
       "        vertical-align: middle;\n",
       "    }\n",
       "\n",
       "    .dataframe tbody tr th {\n",
       "        vertical-align: top;\n",
       "    }\n",
       "\n",
       "    .dataframe thead th {\n",
       "        text-align: right;\n",
       "    }\n",
       "</style>\n",
       "<table border=\"1\" class=\"dataframe\">\n",
       "  <thead>\n",
       "    <tr style=\"text-align: right;\">\n",
       "      <th></th>\n",
       "      <th>emplacement</th>\n",
       "      <th>emplacement-type</th>\n",
       "      <th>type</th>\n",
       "    </tr>\n",
       "  </thead>\n",
       "  <tbody>\n",
       "    <tr>\n",
       "      <th>Bac_a_sable</th>\n",
       "      <td>0.547604</td>\n",
       "      <td>1.338180</td>\n",
       "      <td>0.864300</td>\n",
       "    </tr>\n",
       "    <tr>\n",
       "      <th>Concours</th>\n",
       "      <td>0.642413</td>\n",
       "      <td>1.533880</td>\n",
       "      <td>1.198180</td>\n",
       "    </tr>\n",
       "    <tr>\n",
       "      <th>Florence</th>\n",
       "      <td>0.743535</td>\n",
       "      <td>1.746756</td>\n",
       "      <td>1.240121</td>\n",
       "    </tr>\n",
       "    <tr>\n",
       "      <th>Nord</th>\n",
       "      <td>0.725071</td>\n",
       "      <td>1.647213</td>\n",
       "      <td>1.075633</td>\n",
       "    </tr>\n",
       "    <tr>\n",
       "      <th>Provocation</th>\n",
       "      <td>0.758543</td>\n",
       "      <td>1.767106</td>\n",
       "      <td>1.171216</td>\n",
       "    </tr>\n",
       "    <tr>\n",
       "      <th>Sauveur</th>\n",
       "      <td>0.742390</td>\n",
       "      <td>1.589954</td>\n",
       "      <td>1.098704</td>\n",
       "    </tr>\n",
       "    <tr>\n",
       "      <th>Volley</th>\n",
       "      <td>0.658593</td>\n",
       "      <td>1.718223</td>\n",
       "      <td>1.219428</td>\n",
       "    </tr>\n",
       "  </tbody>\n",
       "</table>\n",
       "</div>"
      ],
      "text/plain": [
       "             emplacement  emplacement-type      type\n",
       "Bac_a_sable     0.547604          1.338180  0.864300\n",
       "Concours        0.642413          1.533880  1.198180\n",
       "Florence        0.743535          1.746756  1.240121\n",
       "Nord            0.725071          1.647213  1.075633\n",
       "Provocation     0.758543          1.767106  1.171216\n",
       "Sauveur         0.742390          1.589954  1.098704\n",
       "Volley          0.658593          1.718223  1.219428"
      ]
     },
     "execution_count": 6,
     "metadata": {},
     "output_type": "execute_result"
    }
   ],
   "source": [
    "criteres = [\"emplacement\", \"type\", \"emplacement-type\"]\n",
    "listeEntropies = dict()\n",
    "moyennes = dict()\n",
    "for critere in criteres:\n",
    "    entropies = dict()\n",
    "    entropie_textes = dict()\n",
    "    for texte in camp.textes:\n",
    "        entropie = calculEntropie(camp, texte, critere)\n",
    "        entropies[texte] = entropie\n",
    "        entropie_textes[texte] = np.mean(entropie)\n",
    "    listeEntropies[critere] = entropies\n",
    "    moyennes[critere] = pandas.Series(entropie_textes)\n",
    "    \n",
    "print(\"Moyenne de l'entropie de chaque texte, pour les 3 critères d'étiquetage : seulement l'emplacement de destination, seulement le type de relation qui part de l'unité, et les deux.\")\n",
    "pandas.concat(moyennes, axis=1)"
   ]
  },
  {
   "cell_type": "markdown",
   "metadata": {},
   "source": [
    "Toujours plus faible pour le texte Bac à sable que tous les autres quel que soit le critère considéré.\n",
    "\n",
    "Si on ne regarde que l'emplacement des relations, l'entropie est un peu plus faible pour Bac à sable et les 2 témoins."
   ]
  },
  {
   "cell_type": "code",
   "execution_count": 7,
   "metadata": {},
   "outputs": [],
   "source": [
    "relationsParTexte = dict()\n",
    "for texte in camp.textes:\n",
    "    annotations = camp.getAnnotations(texte)\n",
    "    matrices = [a.matrice() for a in annotations]\n",
    "    matriceTotale = matrices[0].copy()\n",
    "    for mat in matrices[1:]:\n",
    "        matriceTotale = matriceTotale.add(mat)\n",
    "    count = dict()\n",
    "    for rel in camp.typesRelations:\n",
    "        mat = matriceTotale[rel].as_matrix()\n",
    "        count[rel] = mat[np.nonzero(mat)]\n",
    "    relationsParTexte[texte] = count\n",
    "    \n",
    "relationsTotales = {rel : [] for rel in camp.typesRelations}\n",
    "for texte in camp.textes:\n",
    "    for rel in camp.typesRelations:\n",
    "        relationsTotales[rel] += list(relationsParTexte[texte][rel])"
   ]
  },
  {
   "cell_type": "code",
   "execution_count": 8,
   "metadata": {},
   "outputs": [
    {
     "data": {
      "image/png": "[encoded data removed]",
      "text/plain": [
       "<Figure size 1296x648 with 1 Axes>"
      ]
     },
     "metadata": {},
     "output_type": "display_data"
    }
   ],
   "source": [
    "fig = plt.figure(figsize=(18,9))\n",
    "ax = fig.add_subplot(111)\n",
    "bp = ax.boxplot(relationsTotales.values())\n",
    "ax.set_xticklabels(relationsTotales.keys())\n",
    "plt.show()"
   ]
  },
  {
   "cell_type": "markdown",
   "metadata": {},
   "source": [
    "Essayer de trier les unités par ordre d'entropie croissante et regarder quelles sont les relations majoritaires !"
   ]
  },
  {
   "cell_type": "code",
   "execution_count": 9,
   "metadata": {},
   "outputs": [],
   "source": [
    "def rand_jitter(arr):\n",
    "    \"\"\"\n",
    "    Ajoute un peu de bruit sur les données pour que les points ne soient pas tous superposés\n",
    "    \"\"\"\n",
    "    stdev = .007*(max(arr)-min(arr))\n",
    "    return arr + np.random.randn(len(arr)) * stdev\n",
    "\n",
    "\n",
    "def dessinerRelationsParEntropie(nomTexte, critere):\n",
    "    \"\"\"\n",
    "    Dessine le graphe du nombre de chaque relation par unité, triées par entropie\n",
    "    \"\"\"\n",
    "    x = listeEntropies[critere][nomTexte]\n",
    "    trie = sorted(x.items(), key=operator.itemgetter(1))\n",
    "\n",
    "    annotations = camp.getAnnotations(nomTexte)\n",
    "    matriceTotale = annotations[0].matrice().copy()\n",
    "    for a in annotations[1:]:\n",
    "        matriceTotale = matriceTotale.add(a.matrice())\n",
    "        \n",
    "    fig, ax = plt.subplots(figsize=(18, 10))      \n",
    "    colors=[\"red\", \"blue\", \"green\", \"yellow\", \"orange\", \"brown\", \"pink\", \"grey\", \"magenta\", \"tan\"]\n",
    "\n",
    "    relType = list()\n",
    "    for i, rel in enumerate(camp.typesRelations):\n",
    "        x = list()\n",
    "        y = list()\n",
    "        for origine, entropy in trie:\n",
    "            x.append(entropy)\n",
    "            y.append(matriceTotale[rel, origine].sum())\n",
    "            relType.append(rel)\n",
    "        ax.scatter(rand_jitter(x), rand_jitter(y), c=colors[i], label=rel)\n",
    "\n",
    "    labels = [\"{:.2f}\".format(x[1])  + \"\\n\"+ x[0] for x in trie]\n",
    "    locs = [x[1] for x in trie]\n",
    "    ax.set_xticks(locs)\n",
    "    ax.set_xticklabels(labels)\n",
    "    ax.legend(loc='center left', bbox_to_anchor=(1, 0.5))\n",
    "    plt.xlabel(\"Entropie\")\n",
    "    plt.ylabel(\"Nombre d'annotations\")\n",
    "    plt.show()"
   ]
  },
  {
   "cell_type": "code",
   "execution_count": 10,
   "metadata": {
    "scrolled": true
   },
   "outputs": [
    {
     "data": {
      "application/vnd.jupyter.widget-view+json": {
       "model_id": "940844384faa4de4a002280081635617",
       "version_major": 2,
       "version_minor": 0
      },
      "text/plain": [
       "interactive(children=(Dropdown(description='nomTexte', options=('Bac_a_sable', 'Florence', 'Provocation', 'Nor…"
      ]
     },
     "metadata": {},
     "output_type": "display_data"
    },
    {
     "data": {
      "text/plain": [
       "<function __main__.dessinerRelationsParEntropie(nomTexte, critere)>"
      ]
     },
     "execution_count": 10,
     "metadata": {},
     "output_type": "execute_result"
    }
   ],
   "source": [
    "interact(dessinerRelationsParEntropie, nomTexte=camp.textes.keys(), critere=[\"type\", \"emplacement-type\"])"
   ]
  },
  {
   "cell_type": "markdown",
   "metadata": {},
   "source": [
    "## I.3 Clustering par texte"
   ]
  },
  {
   "cell_type": "code",
   "execution_count": 11,
   "metadata": {},
   "outputs": [
    {
     "data": {
      "application/vnd.jupyter.widget-view+json": {
       "model_id": "919c673a719a46938edc6dd026604b64",
       "version_major": 2,
       "version_minor": 0
      },
      "text/plain": [
       "interactive(children=(Dropdown(description='textname', options=('Bac_a_sable', 'Florence', 'Provocation', 'Nor…"
      ]
     },
     "metadata": {},
     "output_type": "display_data"
    },
    {
     "data": {
      "text/plain": [
       "<function analyse.clusteringParTexte(camp, textname, critere)>"
      ]
     },
     "execution_count": 11,
     "metadata": {},
     "output_type": "execute_result"
    }
   ],
   "source": [
    "interact(clusteringParTexte, camp = fixed(camp), textname=camp.textes.keys(), critere = {\"unité\" : 0,\"relation\" : 1,\"unité-relation\" : 2})"
   ]
  },
  {
   "cell_type": "code",
   "execution_count": null,
   "metadata": {},
   "outputs": [],
   "source": []
  }
 ],
 "metadata": {
  "kernelspec": {
   "display_name": "Python 3",
   "language": "python",
   "name": "python3"
  },
  "language_info": {
   "codemirror_mode": {
    "name": "ipython",
    "version": 3
   },
   "file_extension": ".py",
   "mimetype": "text/x-python",
   "name": "python",
   "nbconvert_exporter": "python",
   "pygments_lexer": "ipython3",
   "version": "3.6.2"
  }
 },
 "nbformat": 4,
 "nbformat_minor": 2
}
